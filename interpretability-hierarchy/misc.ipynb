{
 "cells": [
  {
   "cell_type": "markdown",
   "metadata": {},
   "source": [
    "# Miscellaneous plots\n",
    "\n",
    "This notebook contains miscellaneous plots / analysis. See the headers for more detail"
   ]
  },
  {
   "cell_type": "code",
   "execution_count": null,
   "metadata": {},
   "outputs": [],
   "source": [
    "import numpy as np\n",
    "import matplotlib\n",
    "import matplotlib.pyplot as plt\n",
    "%matplotlib widget\n",
    "matplotlib.rc('font', size=18)\n",
    "default_colors = plt.rcParams['axes.prop_cycle'].by_key()['color']\n",
    "\n",
    "import xarray as xr\n",
    "import pandas as pd\n",
    "from scipy import sparse\n",
    "\n",
    "import sys\n",
    "sys.path.append('../Climate-Learning/')\n",
    "\n",
    "import general_purpose.uplotlib as uplt\n",
    "import general_purpose.cartopy_plots as cplt\n",
    "import general_purpose.utilities as ut\n",
    "\n",
    "HOME = './'"
   ]
  },
  {
   "cell_type": "markdown",
   "metadata": {},
   "source": [
    "## Visualize the data normalization procedure"
   ]
  },
  {
   "cell_type": "code",
   "execution_count": null,
   "metadata": {},
   "outputs": [],
   "source": [
    "lon = np.load('common/lon.npy')\n",
    "lat = np.load('common/lat.npy')\n",
    "LON, LAT = np.meshgrid(lon,lat)\n",
    "\n",
    "y = 'r800y' # use the networks trained on 800 years of data\n",
    "\n",
    "X_means = np.stack([np.load(f'common/{y}/fold_{fold}/X_mean.npy') for fold in range(5)])\n",
    "X_stds = np.stack([np.load(f'common/{y}/fold_{fold}/X_std.npy') for fold in range(5)])\n",
    "\n",
    "X_stds[X_stds == 1] = np.nan\n",
    "\n",
    "X_means.shape, X_stds.shape"
   ]
  },
  {
   "cell_type": "code",
   "execution_count": null,
   "metadata": {},
   "outputs": [],
   "source": [
    "mfp_kwargs = dict(one_fig_layout=120, figsize=(10,5),\n",
    "                  projections=[cplt.ccrs.Orthographic(central_latitude=90), cplt.ccrs.PlateCarree()],\n",
    "                  extents=[None, (-5, 10, 39, 55)],\n",
    "                  titles=[r'Geopotential height [m]', 'Soil moisture [$m^3/m^3$]'],\n",
    "                 )\n",
    "cmaps=['RdBu_r', 'BrBG']\n",
    "\n",
    "std_kwargs = dict(cmaps=['Reds', 'Greens'], vmin=0, colorbar='disabled')"
   ]
  },
  {
   "cell_type": "code",
   "execution_count": null,
   "metadata": {},
   "outputs": [],
   "source": [
    "for fold in range(5):\n",
    "    _ = cplt.mfp(LON,LAT,X_means[fold], **mfp_kwargs, fig_num=8+fold, cmaps=cmaps)\n",
    "    fig = _[0].get_figure()\n",
    "    fig.suptitle(f'fold {fold}')"
   ]
  },
  {
   "cell_type": "markdown",
   "metadata": {},
   "source": [
    "Since the fields are already anomalies, the means are very close to 0"
   ]
  },
  {
   "cell_type": "code",
   "execution_count": null,
   "metadata": {},
   "outputs": [],
   "source": [
    "for fold in range(5):\n",
    "    _ = cplt.mfp(LON,LAT,X_stds[fold], **mfp_kwargs, fig_num=8+fold, **std_kwargs)\n",
    "    fig = _[0].get_figure()\n",
    "    fig.suptitle(f'fold {fold}')"
   ]
  },
  {
   "cell_type": "code",
   "execution_count": null,
   "metadata": {},
   "outputs": [],
   "source": [
    "_ = cplt.mfp(LON,LAT,X_stds.mean(axis=0), **mfp_kwargs, fig_num=1, **std_kwargs)\n",
    "fig = _[0].get_figure()\n",
    "fig.suptitle(f'Mean of stds')\n",
    "_ = cplt.mfp(LON,LAT,X_stds.std(axis=0), **mfp_kwargs, fig_num=2, cmaps=['Reds', 'Greens'], vmin=0, colorbar='disabled')\n",
    "fig = _[0].get_figure()\n",
    "fig.suptitle(f'Std of stds')"
   ]
  },
  {
   "cell_type": "markdown",
   "metadata": {},
   "source": [
    "The maps of std across the folds are extremely similar, we can show only one"
   ]
  },
  {
   "cell_type": "code",
   "execution_count": null,
   "metadata": {},
   "outputs": [],
   "source": [
    "fold = 0\n",
    "_ = cplt.mfp(LON,LAT,X_stds[fold], **mfp_kwargs, fig_num=8+fold, **std_kwargs)\n",
    "fig = _[0].get_figure()\n",
    "fig.suptitle(f'pixel-wise standard deviation')\n",
    "\n",
    "# fig.tight_layout(w_pad=0)\n",
    "fig.tight_layout()\n",
    "\n",
    "fig.savefig(f'{HOME}/STD.pdf')\n",
    "# fig.savefig(f'{HOME}/STD.png', dpi=300)"
   ]
  },
  {
   "cell_type": "code",
   "execution_count": null,
   "metadata": {},
   "outputs": [],
   "source": []
  }
 ],
 "metadata": {
  "kernelspec": {
   "display_name": "ink",
   "language": "python",
   "name": "ink"
  },
  "language_info": {
   "codemirror_mode": {
    "name": "ipython",
    "version": 3
   },
   "file_extension": ".py",
   "mimetype": "text/x-python",
   "name": "python",
   "nbconvert_exporter": "python",
   "pygments_lexer": "ipython3",
   "version": "3.10.8"
  }
 },
 "nbformat": 4,
 "nbformat_minor": 2
}
