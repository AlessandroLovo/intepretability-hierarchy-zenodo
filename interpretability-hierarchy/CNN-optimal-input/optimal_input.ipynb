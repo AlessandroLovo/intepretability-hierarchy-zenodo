{
 "cells": [
  {
   "cell_type": "code",
   "execution_count": null,
   "metadata": {},
   "outputs": [],
   "source": [
    "import numpy as np\n",
    "import matplotlib\n",
    "import matplotlib.pyplot as plt\n",
    "%matplotlib widget\n",
    "matplotlib.rc('font', size=18)\n",
    "default_colors = plt.rcParams['axes.prop_cycle'].by_key()['color']\n",
    "\n",
    "import xarray as xr\n",
    "\n",
    "import sys\n",
    "sys.path.append('../../Climate-Learning/')\n",
    "\n",
    "import general_purpose.uplotlib as uplt\n",
    "import general_purpose.cartopy_plots as cplt\n",
    "import general_purpose.utilities as ut\n",
    "\n",
    "HOME = '../'"
   ]
  },
  {
   "cell_type": "code",
   "execution_count": null,
   "metadata": {},
   "outputs": [],
   "source": [
    "lon = np.load('../common/lon.npy')\n",
    "lat = np.load('../common/lat.npy')\n",
    "LON, LAT = np.meshgrid(lon,lat)"
   ]
  },
  {
   "cell_type": "code",
   "execution_count": null,
   "metadata": {},
   "outputs": [],
   "source": [
    "mfp_kwargs = dict(one_fig_layout=120, figsize=(10,5),\n",
    "                  projections=[cplt.ccrs.Orthographic(central_latitude=90), cplt.ccrs.PlateCarree()],\n",
    "                  extents=[None, (-5, 10, 39, 55)],\n",
    "                  titles=['Geopotential height', 'Soil moisture'],\n",
    "                 )\n",
    "cmaps=['RdBu_r', 'BrBG']"
   ]
  },
  {
   "cell_type": "markdown",
   "metadata": {},
   "source": [
    "## Optimal input of CNN"
   ]
  },
  {
   "cell_type": "code",
   "execution_count": null,
   "metadata": {},
   "outputs": [],
   "source": [
    "ds = xr.open_dataset('optimal-input.nc')\n",
    "ds"
   ]
  },
  {
   "cell_type": "code",
   "execution_count": null,
   "metadata": {},
   "outputs": [],
   "source": [
    "uplt.avg(ds.output.data)"
   ]
  },
  {
   "cell_type": "code",
   "execution_count": null,
   "metadata": {},
   "outputs": [],
   "source": [
    "A_te = xr.open_dataarray('../common/A_te.nc')\n",
    "A_te"
   ]
  },
  {
   "cell_type": "code",
   "execution_count": null,
   "metadata": {},
   "outputs": [],
   "source": [
    "threshold = np.load('../common/threshold.npy').item()\n",
    "threshold"
   ]
  },
  {
   "cell_type": "code",
   "execution_count": null,
   "metadata": {},
   "outputs": [],
   "source": [
    "plt.close(1)\n",
    "fig, ax = plt.subplots(num=1, figsize=(18,6))\n",
    "\n",
    "bins = np.arange(int(threshold), 16, 0.1)\n",
    "\n",
    "plt.hist(A_te.data[A_te.data >= threshold], bins=bins, alpha=0.5, density=True, label='tail of heatwave data')\n",
    "plt.hist(ds.output.data, bins=bins, density=True, alpha=0.5, label= r'$\\mu_{CNN}(S)$')\n",
    "plt.axvline(threshold, color='red', label=r'$a_5$')\n",
    "plt.legend()\n",
    "\n",
    "plt.xlabel('heatwave amplitude [K]')\n",
    "\n",
    "fig.tight_layout()\n",
    "\n",
    "fig.savefig(f'{HOME}/CNN-OI-hist.pdf')"
   ]
  },
  {
   "cell_type": "markdown",
   "metadata": {},
   "source": [
    "### Composite of optimal inputs"
   ]
  },
  {
   "cell_type": "code",
   "execution_count": null,
   "metadata": {},
   "outputs": [],
   "source": [
    "cplt.mfp(LON, LAT, ds.optimal_input_mean.data, **mfp_kwargs, cmaps=cmaps, fig_num=2)\n",
    "cplt.mfp(LON, LAT, ds.optimal_input_std.data, **mfp_kwargs, cmaps='Greys', fig_num=3, colorbar='disabled', vmin=0)"
   ]
  },
  {
   "cell_type": "markdown",
   "metadata": {},
   "source": [
    "### Make it a single figure"
   ]
  },
  {
   "cell_type": "code",
   "execution_count": null,
   "metadata": {},
   "outputs": [],
   "source": [
    "kw = dict(mode='pcolormesh',\n",
    "        greenwich=True,\n",
    "        draw_gridlines=False, draw_labels=False,\n",
    "         )\n",
    "\n",
    "plt.close(1)\n",
    "fig = plt.figure(num=1, figsize=(10, 10))\n",
    "\n",
    "\n",
    "# plot geoplots\n",
    "projs = np.concatenate([ds.optimal_input_mean.data, ds.optimal_input_std.data], axis=-1)\n",
    "\n",
    "for i in range(4):\n",
    "    ax = fig.add_subplot(221 + i, projection=mfp_kwargs['projections'][i%2])\n",
    "\n",
    "    if i < 2:\n",
    "        vmin = None\n",
    "        _mx = np.max(np.abs(projs[...,i]))\n",
    "        _norm = matplotlib.colors.TwoSlopeNorm(vcenter=0., vmin=-_mx, vmax=_mx)\n",
    "        cmap = cmaps[i%2]\n",
    "        title = mfp_kwargs['titles'][i%2] + ' (mean)'\n",
    "    else:\n",
    "        _norm = None\n",
    "        vmin = 0\n",
    "        cmap = 'Greys'\n",
    "        title = mfp_kwargs['titles'][i%2] + ' (std)'\n",
    "\n",
    "\n",
    "    cplt.geo_plotter(ax, LON, LAT, projs[...,i], cmap=cmap, norm=_norm, title=title, vmin=vmin, **kw)\n",
    "\n",
    "    if i%2:\n",
    "        ax.set_extent(mfp_kwargs['extents'][1])\n",
    "\n",
    "\n",
    "fig.tight_layout(w_pad=0)\n",
    "\n",
    "fig.savefig(f'{HOME}/CNN-OI.pdf')"
   ]
  },
  {
   "cell_type": "markdown",
   "metadata": {},
   "source": [
    "## Orthogonal Optimal Input"
   ]
  },
  {
   "cell_type": "code",
   "execution_count": null,
   "metadata": {},
   "outputs": [],
   "source": [
    "dso = xr.open_dataset('orth-optimal-input.nc')\n",
    "dso"
   ]
  },
  {
   "cell_type": "code",
   "execution_count": null,
   "metadata": {},
   "outputs": [],
   "source": [
    "uplt.avg(dso.output.data) # here output is mu_CNN - mu_GA"
   ]
  },
  {
   "cell_type": "code",
   "execution_count": null,
   "metadata": {},
   "outputs": [],
   "source": [
    "plt.close(1)\n",
    "fig, ax = plt.subplots(num=1, figsize=(18,6))\n",
    "\n",
    "bins = np.arange(int(threshold), 16, 0.1)\n",
    "\n",
    "plt.hist(A_te.data[A_te.data >= threshold], bins=bins, density=True, alpha=0.5, label='tail of heatwave data')\n",
    "plt.hist(dso.output.data + dso.ga_output.data, bins=bins, density=True, alpha=0.5, label= r'$\\mu_{CNN}(S)$')\n",
    "plt.hist(dso.output.data, bins=bins, density=True, alpha=0.5, label= r'$\\mu_{CNN}(S) - \\mu_{GA}(S)$')\n",
    "plt.axvline(threshold, color='red', label=r'$a_5$')\n",
    "plt.legend()\n",
    "\n",
    "plt.xlabel('heatwave amplitude [K]')\n",
    "\n",
    "fig.tight_layout()\n",
    "\n",
    "fig.savefig(f'{HOME}/CNN-OI-orth-hist.pdf')"
   ]
  },
  {
   "cell_type": "markdown",
   "metadata": {},
   "source": [
    "### Composite"
   ]
  },
  {
   "cell_type": "code",
   "execution_count": null,
   "metadata": {},
   "outputs": [],
   "source": [
    "kw = dict(mode='pcolormesh',\n",
    "        greenwich=True,\n",
    "        draw_gridlines=False, draw_labels=False,\n",
    "         )\n",
    "\n",
    "plt.close(1)\n",
    "fig = plt.figure(num=1, figsize=(10, 10))\n",
    "\n",
    "\n",
    "# plot geoplots\n",
    "projs = np.concatenate([dso.optimal_input_mean.data, dso.optimal_input_std.data], axis=-1)\n",
    "\n",
    "for i in range(4):\n",
    "    ax = fig.add_subplot(221 + i, projection=mfp_kwargs['projections'][i%2])\n",
    "\n",
    "    if i < 2:\n",
    "        vmin = None\n",
    "        _mx = np.max(np.abs(projs[...,i]))\n",
    "        _norm = matplotlib.colors.TwoSlopeNorm(vcenter=0., vmin=-_mx, vmax=_mx)\n",
    "        cmap = cmaps[i%2]\n",
    "        title = mfp_kwargs['titles'][i%2] + ' (mean)'\n",
    "    else:\n",
    "        _norm = None\n",
    "        vmin = 0\n",
    "        cmap = 'Greys'\n",
    "        title = mfp_kwargs['titles'][i%2] + ' (std)'\n",
    "\n",
    "\n",
    "    cplt.geo_plotter(ax, LON, LAT, projs[...,i], cmap=cmap, norm=_norm, title=title, vmin=vmin, **kw)\n",
    "\n",
    "    if i%2:\n",
    "        ax.set_extent(mfp_kwargs['extents'][1])\n",
    "\n",
    "\n",
    "fig.tight_layout(w_pad=0)\n",
    "\n",
    "# fig.savefig(f'{HOME}/CNN-OI-orth.pdf')"
   ]
  },
  {
   "cell_type": "markdown",
   "metadata": {},
   "source": [
    "## Make it a single figure with the two"
   ]
  },
  {
   "cell_type": "code",
   "execution_count": null,
   "metadata": {},
   "outputs": [],
   "source": [
    "kw = dict(mode='pcolormesh',\n",
    "        greenwich=True,\n",
    "        draw_gridlines=False, draw_labels=False,\n",
    "         )\n",
    "\n",
    "plt.close(1)\n",
    "fig = plt.figure(num=1, figsize=(20, 10))\n",
    "\n",
    "\n",
    "# plot geoplots\n",
    "projs = np.concatenate([ds.optimal_input_mean.data, dso.optimal_input_mean.data, ds.optimal_input_std.data, dso.optimal_input_std.data], axis=-1)\n",
    "\n",
    "for i in range(8):\n",
    "    ax = fig.add_subplot(241 + i, projection=mfp_kwargs['projections'][i%2])\n",
    "\n",
    "    if i < 4:\n",
    "        vmin = None\n",
    "        _mx = np.max(np.abs(projs[...,i]))\n",
    "        _norm = matplotlib.colors.TwoSlopeNorm(vcenter=0., vmin=-_mx, vmax=_mx)\n",
    "        cmap = cmaps[i%2]\n",
    "        title = mfp_kwargs['titles'][i%2] + ' (mean)'\n",
    "    else:\n",
    "        _norm = None\n",
    "        vmin = 0\n",
    "        cmap = 'Greys'\n",
    "        title = mfp_kwargs['titles'][i%2] + ' (std)'\n",
    "\n",
    "\n",
    "    cplt.geo_plotter(ax, LON, LAT, projs[...,i], cmap=cmap, norm=_norm, title=title, vmin=vmin, **kw)\n",
    "\n",
    "    if i%2:\n",
    "        ax.set_extent(mfp_kwargs['extents'][1])\n",
    "\n",
    "\n",
    "fig.suptitle('Optimal input' + ' '*60 + 'Orthogonal optimal input')\n",
    "\n",
    "fig.tight_layout(w_pad=0)\n",
    "\n",
    "# fig.savefig(f'{HOME}/CNN-OI-all.pdf')"
   ]
  },
  {
   "cell_type": "markdown",
   "metadata": {},
   "source": [
    "## Roughness and L2 norm of the real snapshots"
   ]
  },
  {
   "cell_type": "code",
   "execution_count": null,
   "metadata": {},
   "outputs": [],
   "source": [
    "ds = xr.open_dataset('../Te-l2-roughness.nc')\n",
    "ds"
   ]
  },
  {
   "cell_type": "code",
   "execution_count": null,
   "metadata": {},
   "outputs": [],
   "source": [
    "l2s = ds.l2.data\n",
    "\n",
    "plt.close(1)\n",
    "fig,ax = plt.subplots(num=1,figsize=(9,6))\n",
    "\n",
    "plt.hist(l2s, bins=50, density=True)\n",
    "\n",
    "plt.axvline(np.quantile(l2s, 0.05), color='red', linestyle='dashed', label='5% and 95%')\n",
    "plt.axvline(np.quantile(l2s, 0.95), color='red', linestyle='dashed')\n",
    "plt.axvline(np.mean(l2s), color='black', linestyle='dashed', label='mean')\n",
    "plt.axvline(np.median(l2s), color='lime', linestyle='dashed', label='median')\n",
    "\n",
    "plt.xlabel('L2 norm')\n",
    "plt.legend()\n",
    "\n",
    "fig.tight_layout()\n",
    "\n",
    "# fig.savefig(f'{HOME}/l2-hist.pdf')"
   ]
  },
  {
   "cell_type": "code",
   "execution_count": null,
   "metadata": {},
   "outputs": [],
   "source": [
    "roughs = ds.roughness.data\n",
    "\n",
    "plt.close(2)\n",
    "fig,ax = plt.subplots(num=2,figsize=(9,6))\n",
    "\n",
    "plt.hist(roughs, bins=50, density=True)\n",
    "\n",
    "plt.axvline(np.quantile(roughs, 0.05), color='red', linestyle='dashed', label='5% and 95%')\n",
    "plt.axvline(np.quantile(roughs, 0.95), color='red', linestyle='dashed')\n",
    "plt.axvline(np.mean(roughs), color='black', linestyle='dashed', label='mean')\n",
    "plt.axvline(np.median(roughs), color='lime', linestyle='dashed', label='median')\n",
    "\n",
    "plt.xlabel('roughness ($\\sqrt{H_2}$)')\n",
    "plt.legend()\n",
    "\n",
    "fig.tight_layout()\n",
    "\n",
    "# fig.savefig(f'{HOME}/h2-hist.pdf')"
   ]
  },
  {
   "cell_type": "markdown",
   "metadata": {},
   "source": [
    "### Make it a single figure"
   ]
  },
  {
   "cell_type": "code",
   "execution_count": null,
   "metadata": {},
   "outputs": [],
   "source": [
    "plt.close(1)\n",
    "fig, axs = plt.subplots(1,2, num=1, figsize=(18,6))\n",
    "\n",
    "axs[0].hist(l2s, bins=50, density=True)\n",
    "\n",
    "axs[0].axvline(np.quantile(l2s, 0.05), color='red', linestyle='dashed', label='5% and 95%')\n",
    "axs[0].axvline(np.quantile(l2s, 0.95), color='red', linestyle='dashed')\n",
    "axs[0].axvline(np.mean(l2s), color='black', linestyle='dashed', label='mean')\n",
    "axs[0].axvline(np.median(l2s), color='lime', linestyle='dashed', label='median')\n",
    "\n",
    "axs[0].set_xlabel('L2 norm')\n",
    "axs[0].legend()\n",
    "\n",
    "\n",
    "axs[1].hist(roughs, bins=50, density=True)\n",
    "\n",
    "axs[1].axvline(np.quantile(roughs, 0.05), color='red', linestyle='dashed', label='5% and 95%')\n",
    "axs[1].axvline(np.quantile(roughs, 0.95), color='red', linestyle='dashed')\n",
    "axs[1].axvline(np.mean(roughs), color='black', linestyle='dashed', label='mean')\n",
    "axs[1].axvline(np.median(roughs), color='lime', linestyle='dashed', label='median')\n",
    "\n",
    "axs[1].set_xlabel('roughness ($\\sqrt{H_2}$)')\n",
    "axs[1].legend()\n",
    "\n",
    "fig.tight_layout()\n",
    "\n",
    "fig.savefig(f'{HOME}/l2-h2-hist.pdf')"
   ]
  },
  {
   "cell_type": "code",
   "execution_count": null,
   "metadata": {},
   "outputs": [],
   "source": []
  }
 ],
 "metadata": {
  "kernelspec": {
   "display_name": "ink",
   "language": "python",
   "name": "ink"
  },
  "language_info": {
   "codemirror_mode": {
    "name": "ipython",
    "version": 3
   },
   "file_extension": ".py",
   "mimetype": "text/x-python",
   "name": "python",
   "nbconvert_exporter": "python",
   "pygments_lexer": "ipython3",
   "version": "3.10.8"
  }
 },
 "nbformat": 4,
 "nbformat_minor": 2
}
