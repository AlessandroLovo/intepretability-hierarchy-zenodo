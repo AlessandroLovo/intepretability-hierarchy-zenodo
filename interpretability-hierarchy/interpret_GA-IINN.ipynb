{
 "cells": [
  {
   "cell_type": "code",
   "execution_count": null,
   "id": "ad8a6c7a-62c7-4e22-ae86-22fbeaf3186f",
   "metadata": {},
   "outputs": [],
   "source": [
    "import numpy as np\n",
    "import matplotlib\n",
    "import matplotlib.pyplot as plt\n",
    "%matplotlib widget\n",
    "matplotlib.rc('font', size=18)\n",
    "default_colors = plt.rcParams['axes.prop_cycle'].by_key()['color']\n",
    "\n",
    "import xarray as xr\n",
    "import pandas as pd\n",
    "from scipy import sparse\n",
    "\n",
    "import sys\n",
    "sys.path.append('../Climate-Learning/')\n",
    "\n",
    "import general_purpose.uplotlib as uplt\n",
    "import general_purpose.cartopy_plots as cplt\n",
    "import general_purpose.utilities as ut\n",
    "\n",
    "HOME = './'"
   ]
  },
  {
   "cell_type": "code",
   "execution_count": null,
   "id": "4761a0fe-14a9-494d-b474-684e19123c9e",
   "metadata": {},
   "outputs": [],
   "source": [
    "def l2(x, **kwargs):\n",
    "    return np.sqrt(np.sum(x**2, **kwargs))"
   ]
  },
  {
   "cell_type": "code",
   "execution_count": null,
   "id": "68d1b811-92ed-48ed-ab6e-d128d397136e",
   "metadata": {},
   "outputs": [],
   "source": [
    "lon = np.load('common/lon.npy')\n",
    "lat = np.load('common/lat.npy')\n",
    "W = sparse.load_npz('common/W.npz')\n",
    "\n",
    "LON, LAT = np.meshgrid(lon,lat)"
   ]
  },
  {
   "cell_type": "code",
   "execution_count": null,
   "id": "1786f7d2-ca3f-4d6c-8aaa-45892dda22ce",
   "metadata": {},
   "outputs": [],
   "source": [
    "X_std = np.load(f\"common/r800y/fold_0/X_std.npy\")\n",
    "coslat = np.cos(lat*np.pi/180)\n",
    "assert np.sum(X_std != 1) == W.shape[0]\n",
    "aw = (np.ones_like(X_std).T * coslat).T\n",
    "aw *= (X_std != 1)\n",
    "aw /= np.sum(aw)\n",
    "reshaper = ut.Reshaper(X_std != 1)\n",
    "\n",
    "aw.shape"
   ]
  },
  {
   "cell_type": "code",
   "execution_count": null,
   "id": "943267ba-e284-48ca-93bf-ad9dd4b02603",
   "metadata": {},
   "outputs": [],
   "source": [
    "y = 'r800y' # use the networks trained on 800 years of data\n",
    "\n",
    "folder_GA = f'GA/{y}/0/'\n",
    "folder_IINN = f'IINN/{y}/0/'"
   ]
  },
  {
   "cell_type": "markdown",
   "id": "afe43b77-d3b0-41cc-9eb4-3125680b1afb",
   "metadata": {},
   "source": [
    "### Load projection patterns"
   ]
  },
  {
   "cell_type": "code",
   "execution_count": null,
   "id": "2b1170c1-e68d-4e7a-ad48-525221c19954",
   "metadata": {},
   "outputs": [],
   "source": [
    "projs_GA = []\n",
    "for fold in range(5):\n",
    "    proj = np.load(f'{folder_GA}/fold_{fold}/proj.npy')\n",
    "    norm = l2(proj*np.sqrt(aw))\n",
    "    print(norm)\n",
    "    projs_GA.append(proj/norm)\n",
    "\n",
    "projs_GA = np.stack(projs_GA)\n",
    "\n",
    "projs_IINN = []\n",
    "signs_IINN = []\n",
    "for fold in range(5):\n",
    "    proj = np.load(f'{folder_IINN}/fold_{fold}/proj.npy')\n",
    "    sign = -np.sign(np.mean(proj[...,-1])) # we want IINN projection patterns to have the proper sign, with negative values of soil moisture\n",
    "    projs_IINN.append(proj/l2(proj*np.sqrt(aw))*sign)\n",
    "    signs_IINN.append(sign)\n",
    "\n",
    "projs_IINN = np.stack(projs_IINN)\n",
    "signs_IINN = np.array(signs_IINN)\n",
    "\n",
    "projs_GA.shape, projs_IINN.shape"
   ]
  },
  {
   "cell_type": "markdown",
   "id": "cd0c6776-e086-4993-b826-917e07dc865e",
   "metadata": {},
   "source": [
    "### Load predictions"
   ]
  },
  {
   "cell_type": "code",
   "execution_count": null,
   "id": "fd713070-cd0b-46b8-96c9-672159e8ffed",
   "metadata": {},
   "outputs": [],
   "source": [
    "# A_te = np.load('common/A_te.npy')\n",
    "A_te = xr.open_dataarray('common/A_te.nc').data\n",
    "f_tes_GA = np.stack([np.load(f'{folder_GA}/fold_{fold}/f_te.npy') for fold in range(5)])\n",
    "f_tes_IINN = np.stack([np.load(f'{folder_IINN}/fold_{fold}/f_te.npy') for fold in range(5)])\n",
    "\n",
    "A_pred_tes_GA = np.stack([np.load(f'{folder_GA}/fold_{fold}/Y_pred_te.npy') for fold in range(5)])\n",
    "A_pred_tes_IINN = np.stack([np.load(f'{folder_IINN}/fold_{fold}/Y_pred_te.npy') for fold in range(5)])\n",
    "\n",
    "# A_pred_tes_* contain mu and sigma. We turn them into ufloats for easier handling\n",
    "A_pred_tes_GA = uplt.ufloatify(*A_pred_tes_GA.T).T\n",
    "A_pred_tes_IINN = uplt.ufloatify(*A_pred_tes_IINN.T).T\n",
    "\n",
    "A_te.shape, f_tes_GA.shape, f_tes_IINN.shape, A_pred_tes_GA.shape, A_pred_tes_IINN.shape"
   ]
  },
  {
   "cell_type": "markdown",
   "id": "ea3a99f6-916e-49d7-bded-d6ad5d62ebba",
   "metadata": {},
   "source": [
    "### Plot the projection patterns"
   ]
  },
  {
   "cell_type": "code",
   "execution_count": null,
   "id": "dcdca273-21ba-400b-bd86-69856a8c67f0",
   "metadata": {},
   "outputs": [],
   "source": [
    "mfp_kwargs = dict(one_fig_layout=120, figsize=(10,5),\n",
    "                  projections=[cplt.ccrs.Orthographic(central_latitude=90), cplt.ccrs.PlateCarree()],\n",
    "                  extents=[None, (-5, 10, 39, 55)],\n",
    "                  titles=['Geopotential height', 'Soil moisture'],\n",
    "                 )\n",
    "cmaps=['RdBu_r', 'BrBG']"
   ]
  },
  {
   "cell_type": "markdown",
   "id": "cd1bbe69-1f94-4208-9994-cef3e88ba4b9",
   "metadata": {},
   "source": [
    "#### Plot all folds"
   ]
  },
  {
   "cell_type": "code",
   "execution_count": null,
   "id": "05ce152d-3b6e-42db-8312-9dbeaa481291",
   "metadata": {},
   "outputs": [],
   "source": [
    "for fold in range(5):\n",
    "    _ = cplt.mfp(LON,LAT,projs_GA[fold], **mfp_kwargs, fig_num=8+fold, cmaps=cmaps)\n",
    "    fig = _[0].get_figure()\n",
    "    fig.suptitle(f'GA: fold {fold}')"
   ]
  },
  {
   "cell_type": "code",
   "execution_count": null,
   "id": "590c3b95-607b-4a56-828c-78b9a686300a",
   "metadata": {},
   "outputs": [],
   "source": [
    "for fold in range(5):\n",
    "    _ = cplt.mfp(LON,LAT,projs_IINN[fold], **mfp_kwargs, fig_num=8+fold, cmaps=cmaps)\n",
    "    fig = _[0].get_figure()\n",
    "    fig.suptitle(f'IINN: fold {fold}')"
   ]
  },
  {
   "cell_type": "markdown",
   "id": "0ab54dc8-2c9d-41d7-988f-5aa11f4391e0",
   "metadata": {},
   "source": [
    "#### Plot only the best fold"
   ]
  },
  {
   "cell_type": "code",
   "execution_count": null,
   "id": "ab762d0c-48e5-4cfb-8a2c-4aee48706b14",
   "metadata": {},
   "outputs": [],
   "source": [
    "fold = 4 # fold 4 is the one with the best skill\n",
    "\n",
    "mx = [7,15]\n",
    "\n",
    "fig = cplt.mfp(LON,LAT,projs_GA[fold], mx=mx, **mfp_kwargs, fig_num=7, cmaps=cmaps)[0].get_figure()\n",
    "fig.suptitle(r'$M_\\mathrm{GA}$')\n",
    "\n",
    "# fig.savefig(f'{HOME}/projection-pattern-GA.png', dpi=300)\n",
    "\n",
    "fig = cplt.mfp(LON,LAT,projs_IINN[fold], mx=mx, **mfp_kwargs, fig_num=8, cmaps=cmaps)[0].get_figure()\n",
    "fig.suptitle(r'$M_\\mathrm{IINN}$')\n",
    "\n",
    "# fig.savefig(f'{HOME}/projection-pattern-IINN.png', dpi=300)"
   ]
  },
  {
   "cell_type": "markdown",
   "id": "6d76dc35-962c-42dc-983a-4c4b58467c3e",
   "metadata": {},
   "source": [
    "### Plot the projected space"
   ]
  },
  {
   "cell_type": "code",
   "execution_count": null,
   "id": "9ef79877-e737-4089-884a-77832d3080bc",
   "metadata": {},
   "outputs": [],
   "source": [
    "fold = 4 # fold 4 is the one with the best skill\n",
    "\n",
    "plt.close(3)\n",
    "fig,axs = plt.subplots(1,2, figsize=(20,6), num=3)\n",
    "\n",
    "\n",
    "axs[0].scatter(\n",
    "    f_tes_GA[fold],\n",
    "    A_te,\n",
    "    marker='.',\n",
    "    alpha=0.5, color='black', label='data'\n",
    ")\n",
    "\n",
    "isort = np.argsort(f_tes_GA[fold])\n",
    "\n",
    "uplt.errorband(f_tes_GA[fold][isort], A_pred_tes_GA[fold][isort], color=default_colors[0], label='GA', ax=axs[0])\n",
    "\n",
    "axs[0].set_xlabel(r'$M_\\mathrm{GA}\\cdot X$')\n",
    "axs[0].set_ylabel('$A$ [K]')\n",
    "axs[0].legend()\n",
    "\n",
    "# fig.tight_layout()\n",
    "\n",
    "# fig.savefig(f'{HOME}/projected-space-GA.pdf')\n",
    "\n",
    "\n",
    "# plt.close(4)\n",
    "# fig,ax = plt.subplots(figsize=(9,6), num=4)\n",
    "\n",
    "isort = np.argsort(f_tes_IINN[fold])\n",
    "\n",
    "axs[1].scatter(\n",
    "    signs_IINN[fold]*f_tes_IINN[fold],\n",
    "    A_te,\n",
    "    marker='.',\n",
    "    # '.',\n",
    "    alpha=0.5, color='black', label='data',\n",
    ")\n",
    "\n",
    "uplt.errorband(signs_IINN[fold]*f_tes_IINN[fold][isort], A_pred_tes_IINN[fold][isort], color=default_colors[1], label='IINN')\n",
    "\n",
    "plt.xlabel('$M_\\mathrm{IINN}\\cdot X$')\n",
    "plt.ylabel('$A$ [K]')\n",
    "plt.legend()\n",
    "\n",
    "fig.tight_layout()\n",
    "\n",
    "# fig.savefig(f'{HOME}/projected-space-GA-IINN.png', dpi=300)"
   ]
  },
  {
   "cell_type": "markdown",
   "id": "9b608f7c-40ca-4226-8f40-1348ac75341a",
   "metadata": {},
   "source": [
    "### Put everything into a single figure"
   ]
  },
  {
   "cell_type": "code",
   "execution_count": null,
   "id": "638960ea-c3f9-4039-8f21-c2e3bc9c50a5",
   "metadata": {},
   "outputs": [],
   "source": [
    "kw = dict(mode='pcolormesh',\n",
    "        greenwich=True,\n",
    "        draw_gridlines=False, draw_labels=False,\n",
    "         )\n",
    "\n",
    "plt.close(1)\n",
    "fig = plt.figure(num=1, figsize=(20, 10))\n",
    "\n",
    "\n",
    "# plot geoplots\n",
    "projs = np.concatenate([projs_GA[fold], projs_IINN[fold]], axis=-1)\n",
    "\n",
    "for i in range(4):\n",
    "    ax = fig.add_subplot(241 + i, projection=mfp_kwargs['projections'][i%2])\n",
    "\n",
    "    _mx = mx[i%2]\n",
    "    _norm = matplotlib.colors.TwoSlopeNorm(vcenter=0., vmin=-_mx, vmax=_mx)\n",
    "\n",
    "    cplt.geo_plotter(ax, LON, LAT, projs[...,i], cmap=cmaps[i%2], norm=_norm, title=mfp_kwargs['titles'][i%2], **kw)\n",
    "\n",
    "    if i%2:\n",
    "        ax.set_extent(mfp_kwargs['extents'][1])\n",
    "\n",
    "\n",
    "# plot projected space\n",
    "axs = [fig.add_subplot(223), fig.add_subplot(224)]\n",
    "\n",
    "\n",
    "axs[0].scatter(\n",
    "    f_tes_GA[fold],\n",
    "    A_te,\n",
    "    marker='.',\n",
    "    alpha=0.5, color='black', label='data'\n",
    ")\n",
    "\n",
    "isort = np.argsort(f_tes_GA[fold])\n",
    "\n",
    "uplt.errorband(f_tes_GA[fold][isort], A_pred_tes_GA[fold][isort], color=default_colors[0], label='GA', ax=axs[0])\n",
    "\n",
    "axs[0].set_xlabel(r'$M_\\mathrm{GA}\\cdot X$', fontdict=dict(size=20))\n",
    "axs[0].set_ylabel('$A$ [K]', fontdict=dict(size=20))\n",
    "axs[0].legend()\n",
    "\n",
    "\n",
    "isort = np.argsort(f_tes_IINN[fold])\n",
    "\n",
    "axs[1].scatter(\n",
    "    signs_IINN[fold]*f_tes_IINN[fold],\n",
    "    A_te,\n",
    "    marker='.',\n",
    "    # '.',\n",
    "    alpha=0.5, color='black', label='data',\n",
    ")\n",
    "\n",
    "uplt.errorband(signs_IINN[fold]*f_tes_IINN[fold][isort], A_pred_tes_IINN[fold][isort], color=default_colors[1], label='IINN', ax=axs[1])\n",
    "\n",
    "axs[1].set_xlabel(r'$M_\\mathrm{IINN}\\cdot X$', fontdict=dict(size=20))\n",
    "axs[1].set_ylabel('$A$ [K]', fontdict=dict(size=20))\n",
    "axs[1].legend()\n",
    "\n",
    "# fig.suptitle(r'$M_\\mathrm{GA}$' + ' '*95 + r'$M_\\mathrm{IINN}$')\n",
    "fig.suptitle(r'$M_\\mathrm{GA}$' + ' '*77 + r'$M_\\mathrm{IINN}$', fontsize='x-large')\n",
    "\n",
    "fig.tight_layout(w_pad=0)\n",
    "\n",
    "fig.savefig(f'{HOME}/GA-IINN.pdf')"
   ]
  },
  {
   "cell_type": "code",
   "execution_count": null,
   "id": "009f8981-a605-4840-870b-3fe145b6a9e6",
   "metadata": {},
   "outputs": [],
   "source": []
  }
 ],
 "metadata": {
  "kernelspec": {
   "display_name": "mlk",
   "language": "python",
   "name": "mlk"
  },
  "language_info": {
   "codemirror_mode": {
    "name": "ipython",
    "version": 3
   },
   "file_extension": ".py",
   "mimetype": "text/x-python",
   "name": "python",
   "nbconvert_exporter": "python",
   "pygments_lexer": "ipython3",
   "version": "3.10.8"
  }
 },
 "nbformat": 4,
 "nbformat_minor": 5
}
