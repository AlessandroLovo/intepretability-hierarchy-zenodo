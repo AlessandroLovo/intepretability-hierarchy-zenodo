{
 "cells": [
  {
   "cell_type": "markdown",
   "metadata": {},
   "source": [
    "Check that we can load NN models from this directory"
   ]
  },
  {
   "cell_type": "code",
   "execution_count": null,
   "metadata": {},
   "outputs": [],
   "source": [
    "import sys\n",
    "sys.path.append('../Climate-Learning')\n",
    "import general_purpose.utilities as ut\n",
    "\n",
    "\n",
    "sys.path.append('../Climate-Learning/PLASIM')\n",
    "import Learn2_new as ln\n",
    "\n",
    "# log to stdout\n",
    "import logging\n",
    "logging.getLogger().level = logging.INFO\n",
    "logging.getLogger().handlers = [logging.StreamHandler(sys.stdout)]\n"
   ]
  },
  {
   "cell_type": "code",
   "execution_count": null,
   "metadata": {},
   "outputs": [],
   "source": [
    "def get_arg(run, key, config_dict):\n",
    "    return run['args'].get(key, ut.extract_nested(config_dict, key))\n",
    "\n",
    "def get_completed(folder):\n",
    "    return {k:v for k,v in ut.json2dict(f'{folder}/runs.json').items() if v['status'] == 'COMPLETED'}\n",
    "\n",
    "def get_checkpoints(run, folder, monitor=None):\n",
    "    config_dict = ut.json2dict(f'{folder}/config.json')\n",
    "    nfolds = get_arg(run, 'nfolds', config_dict)\n",
    "    opt_ckp, fold_subfolder = ln.optimal_checkpoint(f\"{folder}/{run['name']}\", nfolds, collective=False, metric=monitor or ut.extract_nested(config_dict,'metric'))\n",
    "    return opt_ckp\n",
    "\n",
    "def get_model(run, fold, folder, monitor=None):\n",
    "    opt_ckp = get_checkpoints(run, folder, monitor=monitor)\n",
    "    load_from = f\"{folder}/{run['name']}/fold_{fold}/cp-{opt_ckp[fold]:04d}.ckpt\"\n",
    "    print(f'Loading from {load_from}')\n",
    "    model = ln.load_model(load_from)\n",
    "    return model"
   ]
  },
  {
   "cell_type": "code",
   "execution_count": null,
   "metadata": {},
   "outputs": [],
   "source": [
    "folder = 'CNN/r800y'\n",
    "\n",
    "runs = get_completed(folder)\n",
    "run = runs['0']\n",
    "\n",
    "model = get_model(run, 0, folder)\n",
    "model.summary()"
   ]
  },
  {
   "cell_type": "code",
   "execution_count": null,
   "metadata": {},
   "outputs": [],
   "source": []
  }
 ],
 "metadata": {
  "kernelspec": {
   "display_name": "ink",
   "language": "python",
   "name": "ink"
  },
  "language_info": {
   "codemirror_mode": {
    "name": "ipython",
    "version": 3
   },
   "file_extension": ".py",
   "mimetype": "text/x-python",
   "name": "python",
   "nbconvert_exporter": "python",
   "pygments_lexer": "ipython3",
   "version": "3.10.8"
  }
 },
 "nbformat": 4,
 "nbformat_minor": 2
}
