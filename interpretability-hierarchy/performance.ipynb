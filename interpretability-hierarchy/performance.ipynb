{
 "cells": [
  {
   "cell_type": "markdown",
   "metadata": {},
   "source": [
    "# Performance of the hierarchy\n",
    "\n",
    "In this notebook we analyze the performance on the different models in the hierarchy. We do so for different training dataset length and regularization coefficient."
   ]
  },
  {
   "cell_type": "code",
   "execution_count": null,
   "metadata": {},
   "outputs": [],
   "source": [
    "import numpy as np\n",
    "import matplotlib\n",
    "import matplotlib.pyplot as plt\n",
    "%matplotlib widget\n",
    "matplotlib.rc('font', size=18)\n",
    "default_colors = plt.rcParams['axes.prop_cycle'].by_key()['color']\n",
    "\n",
    "import xarray as xr\n",
    "import pandas as pd\n",
    "\n",
    "import sys\n",
    "sys.path.append('../Climate-Learning/')\n",
    "\n",
    "import general_purpose.uplotlib as uplt\n",
    "import general_purpose.tables as tbl\n",
    "\n",
    "HOME = './'"
   ]
  },
  {
   "cell_type": "code",
   "execution_count": null,
   "metadata": {},
   "outputs": [],
   "source": [
    "hierarchy = ['GA', 'IINN', 'ScatNet', 'CNN']\n",
    "\n",
    "dataset = 'Va' # validation\n",
    "# dataset = 'Te' # test\n",
    "\n",
    "year_suffix = '' # 800 years of training\n",
    "# year_suffix = '80y-' # 80 years of training\n",
    "\n",
    "def load_data(dataset, year_suffix):\n",
    "    skills = {mo : xr.open_dataset(f'{dataset}-{year_suffix}Skill_{mo}.nc') for mo in hierarchy}\n",
    "    skills_av = {mo: uplt.xr_avg(ds, 'fold') for mo,ds in skills.items()} # take the average over the 5 folds\n",
    "    return skills, skills_av\n",
    "\n",
    "skills, skills_av = load_data(dataset, year_suffix)"
   ]
  },
  {
   "cell_type": "markdown",
   "metadata": {},
   "source": [
    "## Pareto plots\n",
    "\n",
    "Pareto plots are useful when we want to optimize two things at once. In our case we want the skills to be as high as possible and the projection patterns as smooth as possible (low $H_2$).\n",
    "\n",
    "This means finding an otimum of the regularization coefficient of GA and IINN.\n",
    "In the Pareto plots, ScatNet and CNN will have constant skill since they don't have a regularization coefficient nor a projection pattern\n",
    "\n",
    "For GA and IINN we can regularize the projection pattern by penalizing its L2 norm or its H2 norm. In the paper we use to the second, which gives better results in principle and in practice, but here we show both."
   ]
  },
  {
   "cell_type": "code",
   "execution_count": null,
   "metadata": {},
   "outputs": [],
   "source": [
    "linestyles = [None, 'dashed']\n",
    "for j,(metr_name,metr) in enumerate(skills_av['CNN'].data_vars.items()):\n",
    "    plt.close(13+j)\n",
    "    fig,ax = plt.subplots(figsize=(8,6), num=13+j)\n",
    "    for i,reg in enumerate(skills_av['GA']['regularization']):\n",
    "        for h,(tech,d) in enumerate(skills_av.items()):\n",
    "            if tech in ['CNN', 'ScatNet']:\n",
    "                continue\n",
    "            sel = d[metr_name].sel(regularization=reg, drop=True)\n",
    "            h2 = d['h2'].sel(regularization=reg, drop=True)\n",
    "            uplt.plot(h2.values*(1 + 0.01*(2*j + i)),\n",
    "                      sel.values, linestyle=linestyles[i], color=default_colors[h], label=f'{tech} ({reg.values})')\n",
    "\n",
    "    plt.xscale('log')\n",
    "    ax.set_xlim(*ax.get_xlim())\n",
    "    uplt.errorband(ax.get_xlim(), [metr.values.item()]*2, color='gray', label='CNN')\n",
    "    uplt.errorband(ax.get_xlim(), [skills_av['ScatNet'][metr_name].values.item()]*2, color='purple', label='ScatNet', band_alpha=0.2)\n",
    "\n",
    "    if year_suffix == '':\n",
    "        ax.set_ylim(0.15,0.35)\n",
    "    else:\n",
    "        ax.set_ylim(0,0.5)\n",
    "\n",
    "    if j == 1:\n",
    "        plt.legend()\n",
    "\n",
    "    plt.xlabel(r'$H_2$')\n",
    "    plt.ylabel(metr_name)\n",
    "\n",
    "    plt.grid(axis='y')\n",
    "\n",
    "    fig.tight_layout()\n",
    "\n",
    "    # fig.savefig(f'{HOME}/pareto-{year_suffix}{dataset}-{metr_name}.pdf')"
   ]
  },
  {
   "cell_type": "markdown",
   "metadata": {},
   "source": [
    "### Make it a single figure"
   ]
  },
  {
   "cell_type": "code",
   "execution_count": null,
   "metadata": {},
   "outputs": [],
   "source": [
    "def pareto_plot(skills_av, save=False):\n",
    "    matplotlib.rc('font', size=24)\n",
    "    plt.close(13)\n",
    "    fig, axs = plt.subplots(1,3, num=13, figsize=(24,8))\n",
    "\n",
    "    linestyles = [None, 'dashed']\n",
    "    for j,(metr_name,metr) in enumerate(skills_av['CNN'].data_vars.items()):\n",
    "        ax = axs[j]\n",
    "        for i,reg in enumerate(skills_av['GA']['regularization']):\n",
    "            for h,(tech,d) in enumerate(skills_av.items()):\n",
    "                if tech in ['CNN', 'ScatNet']:\n",
    "                    continue\n",
    "                sel = d[metr_name].sel(regularization=reg, drop=True)\n",
    "                h2 = d['h2'].sel(regularization=reg, drop=True)\n",
    "                uplt.plot(h2.values*(1 + 0.01*(2*j + i)),\n",
    "                        sel.values, linestyle=linestyles[i], ax=ax, color=default_colors[h], label=f'{tech} ({reg.values})')\n",
    "\n",
    "        ax.set_xscale('log')\n",
    "        ax.set_xlim(*ax.get_xlim())\n",
    "        uplt.errorband(ax.get_xlim(), [metr.values.item()]*2, ax=ax, color='gray', label='CNN')\n",
    "        uplt.errorband(ax.get_xlim(), [skills_av['ScatNet'][metr_name].values.item()]*2, ax=ax, color='purple', label='ScatNet', band_alpha=0.2)\n",
    "\n",
    "        if year_suffix == '':\n",
    "            ax.set_ylim(0.15,0.35)\n",
    "        else:\n",
    "            ax.set_ylim(0,0.5)\n",
    "\n",
    "        if j == 1:\n",
    "            ax.legend()\n",
    "\n",
    "        ax.set_xlabel(r'$H_2$')\n",
    "        ax.set_ylabel(metr_name)\n",
    "\n",
    "        ax.grid(axis='y')\n",
    "\n",
    "    title = ('Test' if dataset == 'Te' else 'Validation') + ' skills when training on ' + ('64' if year_suffix else '640') + ' years'\n",
    "    fig.suptitle(title)\n",
    "\n",
    "    fig.tight_layout()\n",
    "\n",
    "    if save:\n",
    "        fig.savefig(f'{HOME}/pareto-{year_suffix}{dataset}-all.pdf')\n",
    "\n",
    "    \n",
    "\n",
    "pareto_plot(skills_av)"
   ]
  },
  {
   "cell_type": "markdown",
   "metadata": {},
   "source": [
    "### Save all figures at once"
   ]
  },
  {
   "cell_type": "code",
   "execution_count": null,
   "metadata": {},
   "outputs": [],
   "source": [
    "for year_suffix in ['', '80y-']:\n",
    "    for dataset in ['Va', 'Te']:\n",
    "        print(f'{year_suffix}{dataset}')\n",
    "        skills, skills_av = load_data(dataset, year_suffix)\n",
    "        pareto_plot(skills_av, save=True)"
   ]
  },
  {
   "cell_type": "markdown",
   "metadata": {},
   "source": [
    "### Table at the pareto optimum\n",
    "\n",
    "The pareto optimum for GA and IINN is the value of the regularization coefficient $\\epsilon$ that gives the highest validation skill while also having an $H_2$ norm as small as possible.\n",
    "\n",
    "Since there is a broad plateau, we choose the best value by eye, rather than doing some precise optimization."
   ]
  },
  {
   "cell_type": "code",
   "execution_count": null,
   "metadata": {},
   "outputs": [],
   "source": [
    "if year_suffix == '':\n",
    "    pareto_optimum = {'GA': 100, 'IINN': 0.1}\n",
    "else:\n",
    "    pareto_optimum = {'GA': 1000, 'IINN': 1}\n",
    "\n",
    "# create dataset with axes method and metric\n",
    "metrics = list(skills_av['CNN'].data_vars.keys())\n",
    "df = {}\n",
    "for mo,ds in skills_av.items():\n",
    "    if mo in pareto_optimum:\n",
    "        sel = ds.sel(reg_c=pareto_optimum[mo], regularization='gradient', drop=True)\n",
    "    else:\n",
    "        sel = ds\n",
    "    df[mo] = {m: sel[m].data.item() for m in metrics}\n",
    "\n",
    "df = pd.DataFrame(df).T\n",
    "df"
   ]
  },
  {
   "cell_type": "code",
   "execution_count": null,
   "metadata": {},
   "outputs": [],
   "source": [
    "_ = tbl.table(df, cmap=None)"
   ]
  },
  {
   "cell_type": "code",
   "execution_count": null,
   "metadata": {},
   "outputs": [],
   "source": [
    "_ = tbl.tex_table(df, cmap=None, xlabel='Metric', ylabel='Model', leading_indentation=2, close_left=False, close_top=False, use_midrule=False)\n",
    "print(_)"
   ]
  },
  {
   "cell_type": "markdown",
   "metadata": {},
   "source": [
    "### Check skills fold-wise"
   ]
  },
  {
   "cell_type": "code",
   "execution_count": null,
   "metadata": {},
   "outputs": [],
   "source": [
    "skills['IINN'].sel(regularization='gradient', reg_c=pareto_optimum['IINN'])"
   ]
  },
  {
   "cell_type": "code",
   "execution_count": null,
   "metadata": {},
   "outputs": [],
   "source": []
  }
 ],
 "metadata": {
  "kernelspec": {
   "display_name": "mlk",
   "language": "python",
   "name": "mlk"
  },
  "language_info": {
   "codemirror_mode": {
    "name": "ipython",
    "version": 3
   },
   "file_extension": ".py",
   "mimetype": "text/x-python",
   "name": "python",
   "nbconvert_exporter": "python",
   "pygments_lexer": "ipython3",
   "version": "3.10.8"
  }
 },
 "nbformat": 4,
 "nbformat_minor": 4
}
